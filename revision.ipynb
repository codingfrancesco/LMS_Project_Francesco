{
 "cells": [
  {
   "cell_type": "markdown",
   "id": "734796e1",
   "metadata": {},
   "source": [
    "### from your old github repository please review and write code for practice\n",
    "\n",
    "\n"
   ]
  },
  {
   "cell_type": "code",
   "execution_count": null,
   "id": "f9bc5cc0",
   "metadata": {},
   "outputs": [],
   "source": [
    "## exm. what is data type? \n",
    "## how many types are there\n",
    "## write 2 example for each topic"
   ]
  },
  {
   "cell_type": "code",
   "execution_count": null,
   "id": "199f1e8b",
   "metadata": {},
   "outputs": [],
   "source": []
  }
 ],
 "metadata": {
  "kernelspec": {
   "display_name": "base",
   "language": "python",
   "name": "python3"
  },
  "language_info": {
   "name": "python",
   "version": "3.12.7"
  }
 },
 "nbformat": 4,
 "nbformat_minor": 5
}
